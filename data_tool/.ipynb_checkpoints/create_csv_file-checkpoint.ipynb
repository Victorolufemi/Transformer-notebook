{
 "cells": [
  {
   "cell_type": "code",
   "execution_count": 1,
   "metadata": {},
   "outputs": [],
   "source": [
    "import pandas as pd\n",
    "import numpy as np"
   ]
  },
  {
   "cell_type": "code",
   "execution_count": 11,
   "metadata": {},
   "outputs": [],
   "source": [
    "def convert_file_into_array(file_name):\n",
    "    file_list = []\n",
    "    with open(file_name, \"r\", encoding=\"utf-8\") as file:\n",
    "        file_content = file.read()\n",
    "        file_l= file_content.split('\\n')\n",
    "        \n",
    "        for f in file_l:\n",
    "            f_p = \" \".join(f.split(\" \")[1:])\n",
    "            file_list.append(f_p)\n",
    "        \n",
    "    return file_list"
   ]
  },
  {
   "cell_type": "code",
   "execution_count": 12,
   "metadata": {},
   "outputs": [],
   "source": [
    "english_verses = convert_file_into_array('./data/english-verses.txt')\n",
    "yoruba_verses = convert_file_into_array('./data/yoruba-verses.txt')"
   ]
  },
  {
   "cell_type": "code",
   "execution_count": 15,
   "metadata": {},
   "outputs": [
    {
     "data": {
      "text/plain": [
       "'Nínú gbogbo ẹranko tí Jèhófà Ọlọ́run dá, ejò ló máa ń ṣọ́ra jù. Ó sọ fún obìnrin náà pé: “Ṣé òótọ́ ni Ọlọ́run sọ pé ẹ kò gbọ́dọ̀ jẹ nínú èso gbogbo igi inú ọgbà?”'"
      ]
     },
     "execution_count": 15,
     "metadata": {},
     "output_type": "execute_result"
    }
   ],
   "source": [
    "yoruba_verses[56]"
   ]
  },
  {
   "cell_type": "code",
   "execution_count": 16,
   "metadata": {},
   "outputs": [],
   "source": [
    "english = np.array(english_verses)\n",
    "yoruba = np.array(yoruba_verses)"
   ]
  },
  {
   "cell_type": "code",
   "execution_count": 17,
   "metadata": {},
   "outputs": [],
   "source": [
    "pd_dict = {'en': english, 'yo': yoruba}\n",
    "pd_obj = pd.DataFrame(data=pd_dict)"
   ]
  },
  {
   "cell_type": "code",
   "execution_count": 18,
   "metadata": {},
   "outputs": [],
   "source": [
    "final = pd_obj.sample(frac=1).reset_index(drop=True)\n",
    "final.to_csv('./data/data1.csv')"
   ]
  },
  {
   "cell_type": "code",
   "execution_count": null,
   "metadata": {},
   "outputs": [],
   "source": []
  }
 ],
 "metadata": {
  "kernelspec": {
   "display_name": "Python 3",
   "language": "python",
   "name": "python3"
  },
  "language_info": {
   "codemirror_mode": {
    "name": "ipython",
    "version": 3
   },
   "file_extension": ".py",
   "mimetype": "text/x-python",
   "name": "python",
   "nbconvert_exporter": "python",
   "pygments_lexer": "ipython3",
   "version": "3.7.3"
  }
 },
 "nbformat": 4,
 "nbformat_minor": 2
}
